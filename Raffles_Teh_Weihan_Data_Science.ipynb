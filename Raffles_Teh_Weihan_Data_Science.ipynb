{
  "nbformat": 4,
  "nbformat_minor": 0,
  "metadata": {
    "colab": {
      "name": "Raffles Teh Weihan - Data Science.ipynb",
      "provenance": []
    },
    "kernelspec": {
      "name": "python3",
      "display_name": "Python 3"
    },
    "language_info": {
      "name": "python"
    }
  },
  "cells": [
    {
      "cell_type": "code",
      "metadata": {
        "colab": {
          "base_uri": "https://localhost:8080/"
        },
        "id": "FfImci_wteIN",
        "outputId": "f9637bb9-0d64-40b0-e295-67399bf2ccf3"
      },
      "source": [
        "import numpy as np\n",
        "import pandas as pd\n",
        "from sklearn.model_selection import train_test_split\n",
        "toy = pd.read_csv(\"toy_dataset.csv\")\n",
        "print(toy)\n",
        "columns =  ['City', 'Gender', 'Age', 'Income']\n",
        "target_columns = ['Illness']\n",
        "\n",
        "x = toy[columns]\n",
        "y = toy['Illness']\n",
        "x = pd.get_dummies(x)\n",
        "x_train, x_valid, y_train, y_valid = train_test_split(x, y, random_state=1, test_size=0.2)"
      ],
      "execution_count": 2,
      "outputs": [
        {
          "output_type": "stream",
          "name": "stdout",
          "text": [
            "        Number    City  Gender  Age    Income Illness\n",
            "0            1  Dallas    Male   41   40367.0      No\n",
            "1            2  Dallas    Male   54   45084.0      No\n",
            "2            3  Dallas    Male   42   52483.0      No\n",
            "3            4  Dallas    Male   40   40941.0      No\n",
            "4            5  Dallas    Male   46   50289.0      No\n",
            "...        ...     ...     ...  ...       ...     ...\n",
            "149995  149996  Austin    Male   48   93669.0      No\n",
            "149996  149997  Austin    Male   25   96748.0      No\n",
            "149997  149998  Austin    Male   26  111885.0      No\n",
            "149998  149999  Austin    Male   25  111878.0      No\n",
            "149999  150000  Austin  Female   37   87251.0      No\n",
            "\n",
            "[150000 rows x 6 columns]\n"
          ]
        }
      ]
    }
  ]
}